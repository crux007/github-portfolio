{
 "cells": [
  {
   "cell_type": "code",
   "execution_count": 5,
   "metadata": {},
   "outputs": [],
   "source": [
    "import pytesseract\n",
    "from PIL import Image\n",
    "import os\n",
    "import sys"
   ]
  },
  {
   "cell_type": "code",
   "execution_count": 6,
   "metadata": {},
   "outputs": [],
   "source": [
    "import cv2"
   ]
  },
  {
   "cell_type": "code",
   "execution_count": 9,
   "metadata": {},
   "outputs": [
    {
     "name": "stdout",
     "output_type": "stream",
     "text": [
      "Text extracted and saved to documents/ocr_output.txt\n"
     ]
    }
   ],
   "source": [
    "def ocr_image(image_path, output_path):\n",
    "    # Read the image using OpenCV\n",
    "    img = cv2.imread(image_path)\n",
    "    \n",
    "    # Check if the image was loaded successfully\n",
    "    if img is None:\n",
    "        print(f\"Error: Unable to load image at {image_path}\")\n",
    "        return\n",
    "\n",
    "    # Convert the image to grayscale\n",
    "    gray = cv2.cvtColor(img, cv2.COLOR_BGR2GRAY)\n",
    "\n",
    "    # Apply threshold to segment the text\n",
    "    thresh = cv2.threshold(gray, 0, 255, cv2.THRESH_BINARY_INV + cv2.THRESH_OTSU)[1]\n",
    "\n",
    "    # Write the thresholded image to disk as a temporary file\n",
    "    filename = \"{}.png\".format(\"temp\")\n",
    "    cv2.imwrite(filename, thresh)\n",
    "\n",
    "    # Load the image using PIL\n",
    "    pil_image = Image.open(filename)\n",
    "\n",
    "    # Perform OCR using Tesseract\n",
    "    text = pytesseract.image_to_string(pil_image)\n",
    "\n",
    "    # Remove the temporary file\n",
    "    os.remove(filename)\n",
    "\n",
    "    # Save the output to a text file\n",
    "    with open(output_path, \"w\") as f:\n",
    "        f.write(text)\n",
    "\n",
    "    print(f\"Text extracted and saved to {output_path}\")\n",
    "\n",
    "\n",
    "# Example usage\n",
    "image_path = \"Screenshot 2024-07-02 181018.png\"\n",
    "output_path = \"documents/ocr_output.txt\"\n",
    "ocr_image(image_path, output_path)"
   ]
  },
  {
   "cell_type": "code",
   "execution_count": null,
   "metadata": {},
   "outputs": [],
   "source": []
  }
 ],
 "metadata": {
  "language_info": {
   "name": "python"
  }
 },
 "nbformat": 4,
 "nbformat_minor": 2
}
