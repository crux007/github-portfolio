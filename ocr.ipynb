{
 "cells": [
  {
   "cell_type": "code",
   "execution_count": 2,
   "metadata": {},
   "outputs": [],
   "source": [
    "import pytesseract\n",
    "from PIL import Image\n",
    "import os\n",
    "import sys"
   ]
  },
  {
   "cell_type": "code",
   "execution_count": 4,
   "metadata": {},
   "outputs": [],
   "source": [
    "import cv2"
   ]
  },
  {
   "cell_type": "code",
   "execution_count": 8,
   "metadata": {},
   "outputs": [
    {
     "name": "stdout",
     "output_type": "stream",
     "text": [
      "Error: Unable to load image at C:/Users/vonuo/OneDrive/Pictures/Screenshots/Screenshot 2024-07-02 181018.png\n"
     ]
    },
    {
     "name": "stderr",
     "output_type": "stream",
     "text": [
      "[ WARN:0@383.533] global loadsave.cpp:241 findDecoder imread_('C:/Users/vonuo/OneDrive/Pictures/Screenshots/Screenshot 2024-07-02 181018.png'): can't open/read file: check file path/integrity\n"
     ]
    }
   ],
   "source": [
    "def ocr_image(image_path, output_path):\n",
    "    # Read the image using OpenCV\n",
    "    img = cv2.imread(image_path)\n",
    "    \n",
    "    # Check if the image was loaded successfully\n",
    "    if img is None:\n",
    "        print(f\"Error: Unable to load image at {image_path}\")\n",
    "        return\n",
    "\n",
    "    # Convert the image to grayscale\n",
    "    gray = cv2.cvtColor(img, cv2.COLOR_BGR2GRAY)\n",
    "\n",
    "    # Apply threshold to segment the text\n",
    "    thresh = cv2.threshold(gray, 0, 255, cv2.THRESH_BINARY_INV + cv2.THRESH_OTSU)[1]\n",
    "\n",
    "    # Write the thresholded image to disk as a temporary file\n",
    "    filename = \"{}.png\".format(\"temp\")\n",
    "    cv2.imwrite(filename, thresh)\n",
    "\n",
    "    # Load the image using PIL\n",
    "    pil_image = Image.open(filename)\n",
    "\n",
    "    # Perform OCR using Tesseract\n",
    "    text = pytesseract.image_to_string(pil_image)\n",
    "\n",
    "    # Remove the temporary file\n",
    "    os.remove(filename)\n",
    "\n",
    "    # Save the output to a text file\n",
    "    with open(output_path, \"w\") as f:\n",
    "        f.write(text)\n",
    "\n",
    "    print(f\"Text extracted and saved to {output_path}\")\n",
    "\n",
    "\n",
    "# Example usage\n",
    "image_path = \"C:/Users/vonuo/OneDrive/Pictures/Screenshots/Screenshot 2024-07-02 181018.png\"\n",
    "output_path = \"C:/Users/vonuo/OneDrive/Documents/output.txt\"\n",
    "ocr_image(image_path, output_path)"
   ]
  },
  {
   "cell_type": "code",
   "execution_count": 11,
   "metadata": {},
   "outputs": [
    {
     "ename": "SyntaxError",
     "evalue": "invalid syntax (3897119522.py, line 1)",
     "output_type": "error",
     "traceback": [
      "\u001b[0;36m  Cell \u001b[0;32mIn[11], line 1\u001b[0;36m\u001b[0m\n\u001b[0;31m    git add ocr.ipynb\u001b[0m\n\u001b[0m        ^\u001b[0m\n\u001b[0;31mSyntaxError\u001b[0m\u001b[0;31m:\u001b[0m invalid syntax\n"
     ]
    }
   ],
   "source": []
  },
  {
   "cell_type": "code",
   "execution_count": null,
   "metadata": {},
   "outputs": [],
   "source": []
  }
 ],
 "metadata": {
  "language_info": {
   "name": "python"
  }
 },
 "nbformat": 4,
 "nbformat_minor": 2
}
